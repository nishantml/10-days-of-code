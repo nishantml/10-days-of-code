{
 "cells": [
  {
   "cell_type": "markdown",
   "metadata": {},
   "source": [
    "# 10 Days of Code"
   ]
  },
  {
   "cell_type": "code",
   "execution_count": 8,
   "metadata": {},
   "outputs": [
    {
     "name": "stdout",
     "output_type": "stream",
     "text": [
      "Enter the string to reverse\n",
      "Nishant Bhushan\n",
      "Reversed String\n",
      "nahsuhB tnahsiN\n"
     ]
    }
   ],
   "source": [
    "# todo: Check for palindrome : Day 1\n",
    "def split(str):\n",
    "    return [char for char in str];\n",
    "\n",
    "def ReverseStr(str):\n",
    "    return [rev for rev in reversed(str)]\n",
    "\n",
    "name = str(input(\"Enter the string to reverse\\n\"));\n",
    "\n",
    "# print(name)\n",
    "strArray = split(name);\n",
    "revString = ReverseStr(strArray)\n",
    "print('Reversed String')\n",
    "print(\"\".join(revString))\n"
   ]
  },
  {
   "cell_type": "code",
   "execution_count": 9,
   "metadata": {},
   "outputs": [
    {
     "name": "stdout",
     "output_type": "stream",
     "text": [
      "True\n"
     ]
    }
   ],
   "source": [
    "# todo: Palindrome String Day 2\n",
    "def checkStringPalindrom(str):\n",
    "    strArray = split(str)\n",
    "    strArray.reverse()\n",
    "    reversedStr = \"\".join(strArray)\n",
    "    if(reversedStr == str):\n",
    "        return True\n",
    "    else:\n",
    "        return False\n",
    "    \n",
    "  \n",
    "\n",
    "print(checkStringPalindrom('abbbba'))"
   ]
  },
  {
   "cell_type": "code",
   "execution_count": 10,
   "metadata": {},
   "outputs": [
    {
     "name": "stdout",
     "output_type": "stream",
     "text": [
      "eegks\n",
      "for\n"
     ]
    }
   ],
   "source": [
    "# todo: Sort the string Day 3\n",
    "def sortStr(strArr):\n",
    "    for str in strArr:\n",
    "        strArray = split(str);\n",
    "        strArray.sort(reverse=False)\n",
    "        newStr = \"\".join(strArray)\n",
    "        print(newStr)\n",
    "    \n",
    "sortStr(['geeks','for'])"
   ]
  },
  {
   "cell_type": "code",
   "execution_count": 12,
   "metadata": {},
   "outputs": [
    {
     "name": "stdout",
     "output_type": "stream",
     "text": [
      "HBeoyytse\n",
      "NBihsuhsahnatn\n"
     ]
    }
   ],
   "source": [
    "# todo: Merge two strings Day 4\n",
    "# link: https://practice.geeksforgeeks.org/problems/merge-two-strings/0\n",
    "\n",
    "def mergeAltString(strList):\n",
    "    stringCount1 = 0;\n",
    "    stringCount2 = 0;\n",
    "    newString = []\n",
    "    for i in range(len(strList[0])+len(strList[1])):\n",
    "        if(len(strList[0]) == stringCount1):\n",
    "            newString.append(strList[1][stringCount2])\n",
    "            stringCount2 = stringCount2+1\n",
    "            \n",
    "        elif(len(strList[1]) == stringCount2): \n",
    "            newString.append(strList[0][stringCount1]) \n",
    "            stringCount1 = stringCount1+1\n",
    "        else:\n",
    "            if(i%2==0):\n",
    "                newString.append(strList[0][stringCount1]) \n",
    "                stringCount1 = stringCount1+1\n",
    "            else:\n",
    "                newString.append(strList[1][stringCount2])\n",
    "                stringCount2 = stringCount2+1\n",
    "    print(\"\".join(newString))\n",
    "\n",
    "\n",
    "def mergeString(strArray):\n",
    "    for strArr in strArray:\n",
    "        arrayData = []\n",
    "        strA = strArr.split()\n",
    "    #     print(strA)\n",
    "        for strD in strA:\n",
    "            strArray = split(strD);\n",
    "            arrayData.append(strArray)\n",
    "        mergeAltString(arrayData)\n",
    "    \n",
    "mergeString(['Heyte Boys','Nishant Bhushan'])"
   ]
  },
  {
   "cell_type": "code",
   "execution_count": null,
   "metadata": {},
   "outputs": [],
   "source": []
  }
 ],
 "metadata": {
  "kernelspec": {
   "display_name": "Python 3",
   "language": "python",
   "name": "python3"
  },
  "language_info": {
   "codemirror_mode": {
    "name": "ipython",
    "version": 3
   },
   "file_extension": ".py",
   "mimetype": "text/x-python",
   "name": "python",
   "nbconvert_exporter": "python",
   "pygments_lexer": "ipython3",
   "version": "3.6.5"
  }
 },
 "nbformat": 4,
 "nbformat_minor": 2
}
